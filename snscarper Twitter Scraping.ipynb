{
 "cells": [
  {
   "cell_type": "code",
   "execution_count": 16,
   "id": "259b73e4",
   "metadata": {},
   "outputs": [],
   "source": [
    "import snscrape.modules.twitter as sntwitter\n",
    "import pandas as pd\n",
    "import numpy as np"
   ]
  },
  {
   "cell_type": "code",
   "execution_count": null,
   "id": "cb809ce2",
   "metadata": {},
   "outputs": [
    {
     "name": "stdout",
     "output_type": "stream",
     "text": [
      "usernameelonmusk\n",
      "num of tweets1000\n"
     ]
    },
    {
     "name": "stderr",
     "output_type": "stream",
     "text": [
      "C:\\Users\\96656\\AppData\\Local\\Temp\\ipykernel_32228\\196481460.py:10: FutureWarning: content is deprecated, use rawContent instead\n",
      "  attributes_container.append([tweet.date, tweet.likeCount, tweet.sourceLabel, tweet.content])\n",
      "Duplicate user 13298072 in card on tweet 1596869470873866241\n",
      "Duplicate user 742143 in card on tweet 1594745232276557829\n"
     ]
    }
   ],
   "source": [
    "# Created a list to append all tweet attributes(data)\n",
    "attributes_container = []\n",
    "user=input('username')\n",
    "num=int(input('num of tweets'))\n",
    "\n",
    "# Using TwitterSearchScraper to scrape data and append tweets to list\n",
    "for i,tweet in enumerate(sntwitter.TwitterProfileScraper(user ).get_items()):\n",
    "    if i>num:\n",
    "        break\n",
    "    attributes_container.append([tweet.date, tweet.likeCount, tweet.sourceLabel, tweet.content])\n",
    "    \n",
    "# Creating a dataframe from the tweets list above \n",
    "tweets_df = pd.DataFrame(attributes_container, columns=[\"Date Created\", \"Number of Likes\", \"Source of Tweet\", \"Tweets\"])\n",
    "tweets_df"
   ]
  },
  {
   "cell_type": "code",
   "execution_count": 4,
   "id": "80b8ae9e",
   "metadata": {},
   "outputs": [
    {
     "data": {
      "text/plain": [
       "<bound method NDFrame.describe of                  Date Created  Number of Likes     Source of Tweet  \\\n",
       "0   2022-12-03 01:17:10+00:00           190386  Twitter for iPhone   \n",
       "1   2022-12-03 21:53:01+00:00             6738  Twitter for iPhone   \n",
       "2   2022-12-03 21:51:59+00:00             3829  Twitter for iPhone   \n",
       "3   2022-12-03 21:47:42+00:00            34463  Twitter for iPhone   \n",
       "4   2022-12-03 21:41:45+00:00             2148  Twitter for iPhone   \n",
       "..                        ...              ...                 ...   \n",
       "96  2022-12-01 16:58:25+00:00            80757  Twitter for iPhone   \n",
       "97  2022-12-01 16:36:56+00:00             3489  Twitter for iPhone   \n",
       "98  2022-12-01 15:24:45+00:00           157352  Twitter for iPhone   \n",
       "99  2022-12-01 08:00:19+00:00            43464  Twitter for iPhone   \n",
       "100 2022-12-01 03:32:07+00:00           702631  Twitter for iPhone   \n",
       "\n",
       "                                                Tweets location  \n",
       "0                             @micsolana “Handled” 🔥🔥🔥           \n",
       "1    @karpathy Let’s throw a party and invite the w...           \n",
       "2    @Devin_Simonson Agreed. Let’s just give him an...           \n",
       "3                    SBF was bad at League. Nuff said.           \n",
       "4                   @Jason @theallinpod Great podcast!           \n",
       "..                                                 ...      ...  \n",
       "96   Lot of people stuck in a damn-that’s-crazy Cha...           \n",
       "97   @zswitten There still isn’t a good strawberry ...           \n",
       "98   As a reminder, tap the stars icon on upper rig...           \n",
       "99      @cocainebear Always wondered about that bear …           \n",
       "100  Twitter is purging a lot of spam/scam accounts...           \n",
       "\n",
       "[101 rows x 5 columns]>"
      ]
     },
     "execution_count": 4,
     "metadata": {},
     "output_type": "execute_result"
    }
   ],
   "source": [
    "tweets_df.describe"
   ]
  },
  {
   "cell_type": "code",
   "execution_count": 12,
   "id": "a652725f",
   "metadata": {},
   "outputs": [
    {
     "data": {
      "text/plain": [
       "0     2022-12-03 01:17:10+00:00\n",
       "1     2022-12-03 21:53:01+00:00\n",
       "2     2022-12-03 21:51:59+00:00\n",
       "3     2022-12-03 21:47:42+00:00\n",
       "4     2022-12-03 21:41:45+00:00\n",
       "                 ...           \n",
       "96    2022-12-01 16:58:25+00:00\n",
       "97    2022-12-01 16:36:56+00:00\n",
       "98    2022-12-01 15:24:45+00:00\n",
       "99    2022-12-01 08:00:19+00:00\n",
       "100   2022-12-01 03:32:07+00:00\n",
       "Name: Date Created, Length: 101, dtype: datetime64[ns, UTC]"
      ]
     },
     "execution_count": 12,
     "metadata": {},
     "output_type": "execute_result"
    }
   ],
   "source": [
    "a=pd.to_datetime(tweets_df['Date Created'])\n",
    "a"
   ]
  },
  {
   "cell_type": "code",
   "execution_count": 13,
   "id": "11b7d77c",
   "metadata": {},
   "outputs": [
    {
     "data": {
      "text/html": [
       "<div>\n",
       "<style scoped>\n",
       "    .dataframe tbody tr th:only-of-type {\n",
       "        vertical-align: middle;\n",
       "    }\n",
       "\n",
       "    .dataframe tbody tr th {\n",
       "        vertical-align: top;\n",
       "    }\n",
       "\n",
       "    .dataframe thead th {\n",
       "        text-align: right;\n",
       "    }\n",
       "</style>\n",
       "<table border=\"1\" class=\"dataframe\">\n",
       "  <thead>\n",
       "    <tr style=\"text-align: right;\">\n",
       "      <th></th>\n",
       "      <th>Date Created</th>\n",
       "      <th>Number of Likes</th>\n",
       "      <th>Source of Tweet</th>\n",
       "      <th>Tweets</th>\n",
       "      <th>location</th>\n",
       "    </tr>\n",
       "  </thead>\n",
       "  <tbody>\n",
       "    <tr>\n",
       "      <th>0</th>\n",
       "      <td>2022-12-03 01:17:10+00:00</td>\n",
       "      <td>190386</td>\n",
       "      <td>Twitter for iPhone</td>\n",
       "      <td>@micsolana “Handled” 🔥🔥🔥</td>\n",
       "      <td></td>\n",
       "    </tr>\n",
       "    <tr>\n",
       "      <th>1</th>\n",
       "      <td>2022-12-03 21:53:01+00:00</td>\n",
       "      <td>6738</td>\n",
       "      <td>Twitter for iPhone</td>\n",
       "      <td>@karpathy Let’s throw a party and invite the w...</td>\n",
       "      <td></td>\n",
       "    </tr>\n",
       "    <tr>\n",
       "      <th>2</th>\n",
       "      <td>2022-12-03 21:51:59+00:00</td>\n",
       "      <td>3829</td>\n",
       "      <td>Twitter for iPhone</td>\n",
       "      <td>@Devin_Simonson Agreed. Let’s just give him an...</td>\n",
       "      <td></td>\n",
       "    </tr>\n",
       "    <tr>\n",
       "      <th>3</th>\n",
       "      <td>2022-12-03 21:47:42+00:00</td>\n",
       "      <td>34463</td>\n",
       "      <td>Twitter for iPhone</td>\n",
       "      <td>SBF was bad at League. Nuff said.</td>\n",
       "      <td></td>\n",
       "    </tr>\n",
       "    <tr>\n",
       "      <th>4</th>\n",
       "      <td>2022-12-03 21:41:45+00:00</td>\n",
       "      <td>2148</td>\n",
       "      <td>Twitter for iPhone</td>\n",
       "      <td>@Jason @theallinpod Great podcast!</td>\n",
       "      <td></td>\n",
       "    </tr>\n",
       "    <tr>\n",
       "      <th>...</th>\n",
       "      <td>...</td>\n",
       "      <td>...</td>\n",
       "      <td>...</td>\n",
       "      <td>...</td>\n",
       "      <td>...</td>\n",
       "    </tr>\n",
       "    <tr>\n",
       "      <th>96</th>\n",
       "      <td>2022-12-01 16:58:25+00:00</td>\n",
       "      <td>80757</td>\n",
       "      <td>Twitter for iPhone</td>\n",
       "      <td>Lot of people stuck in a damn-that’s-crazy Cha...</td>\n",
       "      <td></td>\n",
       "    </tr>\n",
       "    <tr>\n",
       "      <th>97</th>\n",
       "      <td>2022-12-01 16:36:56+00:00</td>\n",
       "      <td>3489</td>\n",
       "      <td>Twitter for iPhone</td>\n",
       "      <td>@zswitten There still isn’t a good strawberry ...</td>\n",
       "      <td></td>\n",
       "    </tr>\n",
       "    <tr>\n",
       "      <th>98</th>\n",
       "      <td>2022-12-01 15:24:45+00:00</td>\n",
       "      <td>157352</td>\n",
       "      <td>Twitter for iPhone</td>\n",
       "      <td>As a reminder, tap the stars icon on upper rig...</td>\n",
       "      <td></td>\n",
       "    </tr>\n",
       "    <tr>\n",
       "      <th>99</th>\n",
       "      <td>2022-12-01 08:00:19+00:00</td>\n",
       "      <td>43464</td>\n",
       "      <td>Twitter for iPhone</td>\n",
       "      <td>@cocainebear Always wondered about that bear …</td>\n",
       "      <td></td>\n",
       "    </tr>\n",
       "    <tr>\n",
       "      <th>100</th>\n",
       "      <td>2022-12-01 03:32:07+00:00</td>\n",
       "      <td>702631</td>\n",
       "      <td>Twitter for iPhone</td>\n",
       "      <td>Twitter is purging a lot of spam/scam accounts...</td>\n",
       "      <td></td>\n",
       "    </tr>\n",
       "  </tbody>\n",
       "</table>\n",
       "<p>101 rows × 5 columns</p>\n",
       "</div>"
      ],
      "text/plain": [
       "                 Date Created  Number of Likes     Source of Tweet  \\\n",
       "0   2022-12-03 01:17:10+00:00           190386  Twitter for iPhone   \n",
       "1   2022-12-03 21:53:01+00:00             6738  Twitter for iPhone   \n",
       "2   2022-12-03 21:51:59+00:00             3829  Twitter for iPhone   \n",
       "3   2022-12-03 21:47:42+00:00            34463  Twitter for iPhone   \n",
       "4   2022-12-03 21:41:45+00:00             2148  Twitter for iPhone   \n",
       "..                        ...              ...                 ...   \n",
       "96  2022-12-01 16:58:25+00:00            80757  Twitter for iPhone   \n",
       "97  2022-12-01 16:36:56+00:00             3489  Twitter for iPhone   \n",
       "98  2022-12-01 15:24:45+00:00           157352  Twitter for iPhone   \n",
       "99  2022-12-01 08:00:19+00:00            43464  Twitter for iPhone   \n",
       "100 2022-12-01 03:32:07+00:00           702631  Twitter for iPhone   \n",
       "\n",
       "                                                Tweets location  \n",
       "0                             @micsolana “Handled” 🔥🔥🔥           \n",
       "1    @karpathy Let’s throw a party and invite the w...           \n",
       "2    @Devin_Simonson Agreed. Let’s just give him an...           \n",
       "3                    SBF was bad at League. Nuff said.           \n",
       "4                   @Jason @theallinpod Great podcast!           \n",
       "..                                                 ...      ...  \n",
       "96   Lot of people stuck in a damn-that’s-crazy Cha...           \n",
       "97   @zswitten There still isn’t a good strawberry ...           \n",
       "98   As a reminder, tap the stars icon on upper rig...           \n",
       "99      @cocainebear Always wondered about that bear …           \n",
       "100  Twitter is purging a lot of spam/scam accounts...           \n",
       "\n",
       "[101 rows x 5 columns]"
      ]
     },
     "execution_count": 13,
     "metadata": {},
     "output_type": "execute_result"
    }
   ],
   "source": [
    "tweets_df"
   ]
  },
  {
   "cell_type": "code",
   "execution_count": 18,
   "id": "217eedf1",
   "metadata": {},
   "outputs": [
    {
     "data": {
      "text/plain": [
       "<AxesSubplot:xlabel='Date Created'>"
      ]
     },
     "execution_count": 18,
     "metadata": {},
     "output_type": "execute_result"
    },
    {
     "data": {
      "image/png": "[encoded data removed]",
      "text/plain": [
       "<Figure size 432x288 with 1 Axes>"
      ]
     },
     "metadata": {
      "needs_background": "light"
     },
     "output_type": "display_data"
    }
   ],
   "source": [
    "res = tweets_df.groupby(tweets_df[\"Date Created\"].dt.hour).count().reindex(np.arange(24), fill_value=0)\n",
    "res.plot(kind=\"bar\")\n"
   ]
  }
 ],
 "metadata": {
  "kernelspec": {
   "display_name": "Python 3 (ipykernel)",
   "language": "python",
   "name": "python3"
  },
  "language_info": {
   "codemirror_mode": {
    "name": "ipython",
    "version": 3
   },
   "file_extension": ".py",
   "mimetype": "text/x-python",
   "name": "python",
   "nbconvert_exporter": "python",
   "pygments_lexer": "ipython3",
   "version": "3.9.12"
  }
 },
 "nbformat": 4,
 "nbformat_minor": 5
}
